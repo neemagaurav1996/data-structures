{
 "cells": [
  {
   "cell_type": "markdown",
   "id": "500fb9c7",
   "metadata": {},
   "source": [
    "### Graphs"
   ]
  },
  {
   "cell_type": "code",
   "execution_count": 1,
   "id": "c750d1d6",
   "metadata": {},
   "outputs": [],
   "source": [
    "class Graph:\n",
    "    def __init__(self, gdict=None):\n",
    "        if gdict is None:\n",
    "            gdict = []\n",
    "        self.gdict = gdict"
   ]
  },
  {
   "cell_type": "code",
   "execution_count": 2,
   "id": "9fc7a764",
   "metadata": {},
   "outputs": [],
   "source": [
    "graph_elements = {\n",
    "    \"a\": [\"b\",\"c\",\"d\"],\n",
    "    \"b\": [\"a\",\"c\",\"d\"],\n",
    "    \"c\": [\"a\",\"b\",\"d\"],\n",
    "    \"d\": [\"b\",\"c\",\"e\"],\n",
    "    \"e\": [\"f\"],\n",
    "    \"f\": [\"e\"]\n",
    "}\n",
    "graph1 = Graph(graph_elements)"
   ]
  },
  {
   "cell_type": "code",
   "execution_count": 3,
   "id": "c1fb1cab",
   "metadata": {},
   "outputs": [],
   "source": [
    "def getVertices(graph):\n",
    "    return graph.gdict.keys()"
   ]
  },
  {
   "cell_type": "code",
   "execution_count": 4,
   "id": "fd9501d9",
   "metadata": {},
   "outputs": [
    {
     "data": {
      "text/plain": [
       "dict_keys(['a', 'b', 'c', 'd', 'e', 'f'])"
      ]
     },
     "execution_count": 4,
     "metadata": {},
     "output_type": "execute_result"
    }
   ],
   "source": [
    "getVertices(graph1)"
   ]
  },
  {
   "cell_type": "code",
   "execution_count": 5,
   "id": "b2d433d4",
   "metadata": {},
   "outputs": [],
   "source": [
    "def getEdges(graph):\n",
    "    edges = []\n",
    "    for node in graph.gdict:\n",
    "        for neighbour in graph.gdict[node]:\n",
    "            edges.append((node,neighbour))\n",
    "    return edges\n",
    "    "
   ]
  },
  {
   "cell_type": "code",
   "execution_count": 6,
   "id": "ed516ce1",
   "metadata": {},
   "outputs": [
    {
     "data": {
      "text/plain": [
       "[('a', 'b'),\n",
       " ('a', 'c'),\n",
       " ('a', 'd'),\n",
       " ('b', 'a'),\n",
       " ('b', 'c'),\n",
       " ('b', 'd'),\n",
       " ('c', 'a'),\n",
       " ('c', 'b'),\n",
       " ('c', 'd'),\n",
       " ('d', 'b'),\n",
       " ('d', 'c'),\n",
       " ('d', 'e'),\n",
       " ('e', 'f'),\n",
       " ('f', 'e')]"
      ]
     },
     "execution_count": 6,
     "metadata": {},
     "output_type": "execute_result"
    }
   ],
   "source": [
    "getEdges(graph1)"
   ]
  },
  {
   "cell_type": "markdown",
   "id": "d381a725",
   "metadata": {},
   "source": [
    "**BFS**"
   ]
  },
  {
   "cell_type": "code",
   "execution_count": 32,
   "id": "785dd27a",
   "metadata": {},
   "outputs": [],
   "source": [
    "def BFS(graph, s):\n",
    "    queue = []\n",
    "    visited = []\n",
    "    queue.append(s)\n",
    "    visited.append(s)\n",
    "    \n",
    "    while queue:\n",
    "        s = queue.pop(0)\n",
    "        print(s)\n",
    "        for i in graph[s]:\n",
    "            if i not in visited:\n",
    "                queue.append(i)\n",
    "                visited.append(i)"
   ]
  },
  {
   "cell_type": "code",
   "execution_count": 34,
   "id": "42df465e",
   "metadata": {},
   "outputs": [],
   "source": [
    "def DFS(graph, s):\n",
    "    stack = []\n",
    "    visited = []\n",
    "    stack.append(s)\n",
    "    visited.append(s)\n",
    "    \n",
    "    while stack:\n",
    "        s = stack.pop()\n",
    "        print(s)\n",
    "        for i in graph[s]:\n",
    "            if i not in visited:\n",
    "                stack.append(i)\n",
    "                visited.append(i)"
   ]
  },
  {
   "cell_type": "code",
   "execution_count": 35,
   "id": "a89733b3",
   "metadata": {},
   "outputs": [
    {
     "name": "stdout",
     "output_type": "stream",
     "text": [
      "a\n",
      "b\n",
      "c\n",
      "d\n",
      "e\n",
      "f\n"
     ]
    }
   ],
   "source": [
    "graph_elements = {\n",
    "    \"a\": [\"b\",\"c\",\"d\"],\n",
    "    \"b\": [\"a\",\"c\",\"d\"],\n",
    "    \"c\": [\"a\",\"b\",\"d\"],\n",
    "    \"d\": [\"b\",\"c\",\"e\"],\n",
    "    \"e\": [\"f\"],\n",
    "    \"f\": [\"e\"]\n",
    "}\n",
    "BFS(graph_elements, \"a\")"
   ]
  },
  {
   "cell_type": "code",
   "execution_count": 41,
   "id": "6488ddfb",
   "metadata": {},
   "outputs": [
    {
     "name": "stdout",
     "output_type": "stream",
     "text": [
      "a\n",
      "d\n",
      "e\n",
      "f\n",
      "c\n",
      "b\n"
     ]
    }
   ],
   "source": [
    "DFS(graph_elements,\"a\")"
   ]
  },
  {
   "cell_type": "code",
   "execution_count": null,
   "id": "3d0543b5",
   "metadata": {},
   "outputs": [],
   "source": []
  }
 ],
 "metadata": {
  "kernelspec": {
   "display_name": "Python 3",
   "language": "python",
   "name": "python3"
  },
  "language_info": {
   "codemirror_mode": {
    "name": "ipython",
    "version": 3
   },
   "file_extension": ".py",
   "mimetype": "text/x-python",
   "name": "python",
   "nbconvert_exporter": "python",
   "pygments_lexer": "ipython3",
   "version": "3.8.5"
  }
 },
 "nbformat": 4,
 "nbformat_minor": 5
}
