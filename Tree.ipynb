{
 "cells": [
  {
   "cell_type": "markdown",
   "id": "aa5f36f7",
   "metadata": {},
   "source": [
    "### Binary Tree"
   ]
  },
  {
   "cell_type": "code",
   "execution_count": 13,
   "id": "0a1182b7",
   "metadata": {},
   "outputs": [],
   "source": [
    "class Node:\n",
    "    def __init__(self,data):\n",
    "        self.left = None\n",
    "        self.right = None\n",
    "        self.data = data\n",
    "        \n",
    "    def printTree(self):\n",
    "        print(self.data)"
   ]
  },
  {
   "cell_type": "code",
   "execution_count": 11,
   "id": "4fcb54bc",
   "metadata": {},
   "outputs": [
    {
     "name": "stdout",
     "output_type": "stream",
     "text": [
      "20\n"
     ]
    }
   ],
   "source": [
    "root = Node(20)\n",
    "root.printTree()"
   ]
  },
  {
   "cell_type": "code",
   "execution_count": 14,
   "id": "e83008aa",
   "metadata": {},
   "outputs": [],
   "source": [
    "root.left = Node(21)\n",
    "root.right = Node(22)"
   ]
  },
  {
   "cell_type": "code",
   "execution_count": 17,
   "id": "f3e3b405",
   "metadata": {},
   "outputs": [],
   "source": [
    "root.left.left = Node(211)"
   ]
  },
  {
   "cell_type": "markdown",
   "id": "804277d7",
   "metadata": {},
   "source": [
    "### Binary Search Tree (BST)"
   ]
  },
  {
   "cell_type": "code",
   "execution_count": 24,
   "id": "9fca240f",
   "metadata": {},
   "outputs": [],
   "source": [
    "class Node:\n",
    "    def __init__(self,data):\n",
    "        self.left = None\n",
    "        self.right = None\n",
    "        self.data = data"
   ]
  },
  {
   "cell_type": "code",
   "execution_count": 66,
   "id": "0c2f2a6a",
   "metadata": {},
   "outputs": [],
   "source": [
    "# Insert in BST - Recursive\n",
    "def insert(root, data):\n",
    "    if root is None:\n",
    "        return Node(data)\n",
    "    else:\n",
    "        if(root.data == data):\n",
    "            return root\n",
    "        elif root.data < data:\n",
    "            root.right = insert(root.right, data)\n",
    "        else:\n",
    "            root.left = insert(root.left, data)\n",
    "    return root"
   ]
  },
  {
   "cell_type": "code",
   "execution_count": 78,
   "id": "c6a0c446",
   "metadata": {},
   "outputs": [],
   "source": [
    "# Insert in BST - Iterative\n",
    "\n",
    "def insertIterative(root,data):\n",
    "    new_node = Node(data)\n",
    "    x = root\n",
    "    y = None\n",
    "    \n",
    "    while(x!=None):\n",
    "        y = x\n",
    "        if(data < x.data):\n",
    "            x = x.left\n",
    "        else:\n",
    "            x = x.right\n",
    "            \n",
    "    # For empty tree\n",
    "    if(y is None):\n",
    "        y = new_node\n",
    "    elif(data < y.data):\n",
    "        y.left = new_node\n",
    "    else:\n",
    "        y.right = new_node\n",
    "        \n",
    "    return y\n",
    "    "
   ]
  },
  {
   "cell_type": "code",
   "execution_count": 79,
   "id": "1ab67b76",
   "metadata": {},
   "outputs": [],
   "source": [
    "# Inorder traversal of tree\n",
    "def inorder(root):\n",
    "    if(root):\n",
    "        inorder(root.left)\n",
    "        print(root.data)\n",
    "        inorder(root.right)"
   ]
  },
  {
   "cell_type": "code",
   "execution_count": 80,
   "id": "3d841e2d",
   "metadata": {},
   "outputs": [],
   "source": [
    "# Preorder traversal of tree\n",
    "def preorder(root):\n",
    "    if(root):\n",
    "        print(root.data)\n",
    "        preorder(root.left)\n",
    "        preorder(root.right)"
   ]
  },
  {
   "cell_type": "code",
   "execution_count": 73,
   "id": "d7375761",
   "metadata": {},
   "outputs": [],
   "source": [
    "# Postorder traversal of tree\n",
    "def postorder(root):\n",
    "    if(root):\n",
    "        postorder(root.left)\n",
    "        postorder(root.right)\n",
    "        print(root.data)"
   ]
  },
  {
   "cell_type": "code",
   "execution_count": 83,
   "id": "0796d6bb",
   "metadata": {},
   "outputs": [
    {
     "data": {
      "text/plain": [
       "<__main__.Node at 0x7f18e231d580>"
      ]
     },
     "execution_count": 83,
     "metadata": {},
     "output_type": "execute_result"
    }
   ],
   "source": [
    "root = Node(50)\n",
    "insert(root, 20)\n",
    "insert(root, 50)\n",
    "insert(root, 40)\n",
    "insert(root, 100)\n",
    "insert(root, 120)\n",
    "insert(root, 15)"
   ]
  },
  {
   "cell_type": "code",
   "execution_count": 85,
   "id": "2face815",
   "metadata": {},
   "outputs": [
    {
     "data": {
      "text/plain": [
       "<__main__.Node at 0x7f18e230c3d0>"
      ]
     },
     "execution_count": 85,
     "metadata": {},
     "output_type": "execute_result"
    }
   ],
   "source": [
    "root = Node(50)\n",
    "insertIterative(root, 20)\n",
    "insertIterative(root, 50)\n",
    "insertIterative(root, 40)\n",
    "insertIterative(root, 100)\n",
    "insertIterative(root, 120)\n",
    "insertIterative(root, 15)"
   ]
  },
  {
   "cell_type": "code",
   "execution_count": null,
   "id": "9201e854",
   "metadata": {},
   "outputs": [],
   "source": [
    " "
   ]
  }
 ],
 "metadata": {
  "kernelspec": {
   "display_name": "Python 3",
   "language": "python",
   "name": "python3"
  },
  "language_info": {
   "codemirror_mode": {
    "name": "ipython",
    "version": 3
   },
   "file_extension": ".py",
   "mimetype": "text/x-python",
   "name": "python",
   "nbconvert_exporter": "python",
   "pygments_lexer": "ipython3",
   "version": "3.8.5"
  }
 },
 "nbformat": 4,
 "nbformat_minor": 5
}
